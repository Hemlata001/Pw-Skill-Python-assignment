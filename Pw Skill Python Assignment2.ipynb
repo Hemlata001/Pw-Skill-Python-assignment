{
 "cells": [
  {
   "cell_type": "raw",
   "id": "9ef2bda8",
   "metadata": {},
   "source": [
    "Q1 How can we store a single quote (‘) as a string in a variable?\n",
    "\n",
    "Answer1"
   ]
  },
  {
   "cell_type": "code",
   "execution_count": 1,
   "id": "338c0937",
   "metadata": {},
   "outputs": [
    {
     "name": "stdout",
     "output_type": "stream",
     "text": [
      "Hemlata see ,What a beautiful weather is this?\n"
     ]
    }
   ],
   "source": [
    "x = 'Hemlata see ,What a beautiful weather is this?'\n",
    "print(x)"
   ]
  },
  {
   "cell_type": "code",
   "execution_count": 2,
   "id": "e283c239",
   "metadata": {},
   "outputs": [
    {
     "name": "stdout",
     "output_type": "stream",
     "text": [
      "Tit for Tat\n"
     ]
    }
   ],
   "source": [
    "quote = 'Tit for Tat'\n",
    "print(quote)"
   ]
  },
  {
   "cell_type": "raw",
   "id": "e1838a99",
   "metadata": {},
   "source": [
    "Q2 Refer the below variable:\n",
    "x = 'a'\n",
    "Here, is x a character type or string type variable? Support your answer with an explanation.\n",
    "\n",
    "Answer2"
   ]
  },
  {
   "cell_type": "code",
   "execution_count": 4,
   "id": "451a52f3",
   "metadata": {},
   "outputs": [
    {
     "name": "stdout",
     "output_type": "stream",
     "text": [
      "<class 'str'>\n"
     ]
    }
   ],
   "source": [
    "x = 'a'\n",
    "print(type(x))\n"
   ]
  },
  {
   "cell_type": "raw",
   "id": "ad0a5dd6",
   "metadata": {},
   "source": [
    "Q3 Apply the following functions on this variable: ‘Welcome to Python foundation course'\n",
    "1) find ()\n",
    "2) count()\n",
    "3) len()\n",
    "4) Concatenation\n",
    "Note: You can use your choice of parameters. But make sure it is correct."
   ]
  },
  {
   "cell_type": "code",
   "execution_count": 5,
   "id": "316719e2",
   "metadata": {},
   "outputs": [
    {
     "name": "stdout",
     "output_type": "stream",
     "text": [
      "Welcome to Python foundation course\n"
     ]
    }
   ],
   "source": [
    "a = 'Welcome to Python foundation course'\n",
    "print(a)"
   ]
  },
  {
   "cell_type": "code",
   "execution_count": 6,
   "id": "ed12a6d5",
   "metadata": {},
   "outputs": [
    {
     "name": "stdout",
     "output_type": "stream",
     "text": [
      "0\n"
     ]
    }
   ],
   "source": [
    "# find()\n",
    "b = a.find('Welcome')\n",
    "print(b)\n"
   ]
  },
  {
   "cell_type": "code",
   "execution_count": 8,
   "id": "1859cef8",
   "metadata": {},
   "outputs": [
    {
     "name": "stdout",
     "output_type": "stream",
     "text": [
      "8\n"
     ]
    }
   ],
   "source": [
    "x =a.find('t')\n",
    "print(x)"
   ]
  },
  {
   "cell_type": "code",
   "execution_count": 9,
   "id": "b2edf9f8",
   "metadata": {},
   "outputs": [],
   "source": [
    "# count()\n",
    "b = a.count('Python')"
   ]
  },
  {
   "cell_type": "code",
   "execution_count": 10,
   "id": "79e83cbf",
   "metadata": {},
   "outputs": [
    {
     "name": "stdout",
     "output_type": "stream",
     "text": [
      "1\n"
     ]
    }
   ],
   "source": [
    "print(b)"
   ]
  },
  {
   "cell_type": "code",
   "execution_count": 11,
   "id": "6847fb6d",
   "metadata": {},
   "outputs": [
    {
     "name": "stdout",
     "output_type": "stream",
     "text": [
      "35\n"
     ]
    }
   ],
   "source": [
    "# len()\n",
    "c = len(a)\n",
    "print(c)"
   ]
  },
  {
   "cell_type": "code",
   "execution_count": 13,
   "id": "d9cf16ea",
   "metadata": {},
   "outputs": [
    {
     "name": "stdout",
     "output_type": "stream",
     "text": [
      "Welcome Course\n"
     ]
    }
   ],
   "source": [
    "# concatenation\n",
    "d = \"Welcome\"\n",
    "e = \"Course\"\n",
    "f = d + \" \" + e\n",
    "print(f)"
   ]
  },
  {
   "cell_type": "raw",
   "id": "9e8c2e2d",
   "metadata": {},
   "source": [
    "Q4 For the variable: word = ‘Panaji@12256'\n",
    "Calculate the following:\n",
    "(a) Total number of alphabets in lowercase\n",
    "(b) Total number of alphabets in uppercase\n",
    "(c) Total number of numerical in string"
   ]
  },
  {
   "cell_type": "code",
   "execution_count": 14,
   "id": "9633acfd",
   "metadata": {},
   "outputs": [],
   "source": [
    "word = 'Panaji@12256'\n",
    "lowercase_count = 0\n",
    "uppercase_count = 0\n",
    "numerical_count = 0\n",
    "\n",
    "for char in word:\n",
    "    if char.islower():\n",
    "        lowercase_count += 1\n",
    "    elif char.isupper():\n",
    "        uppercase_count += 1\n",
    "    elif char.isdigit():\n",
    "        numerical_count += 1"
   ]
  },
  {
   "cell_type": "code",
   "execution_count": 15,
   "id": "41e5ac42",
   "metadata": {},
   "outputs": [
    {
     "name": "stdout",
     "output_type": "stream",
     "text": [
      "Total number of lowercase alphabets: 5\n",
      "Total number of uppercase alphabets: 1\n",
      "Total number of numerical characters: 5\n"
     ]
    }
   ],
   "source": [
    "print(\"Total number of lowercase alphabets:\", lowercase_count)\n",
    "print(\"Total number of uppercase alphabets:\", uppercase_count)\n",
    "print(\"Total number of numerical characters:\", numerical_count)"
   ]
  },
  {
   "cell_type": "raw",
   "id": "a3131d92",
   "metadata": {},
   "source": [
    "Q5 Write a code to store a numerical value inside a variable then convert it into string."
   ]
  },
  {
   "cell_type": "code",
   "execution_count": 16,
   "id": "c5935d4b",
   "metadata": {},
   "outputs": [
    {
     "name": "stdout",
     "output_type": "stream",
     "text": [
      "<class 'int'>\n"
     ]
    }
   ],
   "source": [
    "a = 12\n",
    "print(type(a))"
   ]
  },
  {
   "cell_type": "code",
   "execution_count": 17,
   "id": "4d3f0f30",
   "metadata": {},
   "outputs": [
    {
     "name": "stdout",
     "output_type": "stream",
     "text": [
      "<class 'str'>\n"
     ]
    }
   ],
   "source": [
    "b = str(a)\n",
    "print(type(b))"
   ]
  },
  {
   "cell_type": "code",
   "execution_count": null,
   "id": "78796a92",
   "metadata": {},
   "outputs": [],
   "source": []
  }
 ],
 "metadata": {
  "kernelspec": {
   "display_name": "Python 3 (ipykernel)",
   "language": "python",
   "name": "python3"
  },
  "language_info": {
   "codemirror_mode": {
    "name": "ipython",
    "version": 3
   },
   "file_extension": ".py",
   "mimetype": "text/x-python",
   "name": "python",
   "nbconvert_exporter": "python",
   "pygments_lexer": "ipython3",
   "version": "3.9.13"
  }
 },
 "nbformat": 4,
 "nbformat_minor": 5
}
